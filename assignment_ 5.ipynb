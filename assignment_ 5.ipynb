{
 "cells": [
  {
   "cell_type": "code",
   "execution_count": null,
   "id": "050b022d",
   "metadata": {},
   "outputs": [],
   "source": [
    "1-What does an empty dictionary code look like?"
   ]
  },
  {
   "cell_type": "code",
   "execution_count": null,
   "id": "788b3055",
   "metadata": {},
   "outputs": [],
   "source": [
    "Ans- An empty dictionary code lloes like this {}"
   ]
  },
  {
   "cell_type": "code",
   "execution_count": null,
   "id": "74dfac83",
   "metadata": {},
   "outputs": [],
   "source": [
    "2-What is the value of a dictionary value with the key 'foo'& the value 42?"
   ]
  },
  {
   "cell_type": "code",
   "execution_count": null,
   "id": "6a7b52fc",
   "metadata": {},
   "outputs": [],
   "source": [
    "Ans-tmp={'foo': 42}"
   ]
  },
  {
   "cell_type": "code",
   "execution_count": null,
   "id": "d7345fd5",
   "metadata": {},
   "outputs": [],
   "source": [
    "3- What is the most significant distinction between a dictionary and a list?"
   ]
  },
  {
   "cell_type": "code",
   "execution_count": null,
   "id": "60234a37",
   "metadata": {},
   "outputs": [],
   "source": [
    "Ans- List is a mutable type meaning that lists can be modified after they have been created.They are stored in [] brackets\n",
    "A dictionary is a key-value store It is not ordered and it requires that the keys are hashable.They are stored in {} brackets"
   ]
  },
  {
   "cell_type": "code",
   "execution_count": null,
   "id": "8e0d2f98",
   "metadata": {},
   "outputs": [],
   "source": [
    "4-What happens if you try to access spam['foo'] if spam is {'bar':100}?"
   ]
  },
  {
   "cell_type": "code",
   "execution_count": null,
   "id": "e6b01fa7",
   "metadata": {},
   "outputs": [],
   "source": [
    "Ans- since the key foo is not defined so it will give keyerror error."
   ]
  },
  {
   "cell_type": "code",
   "execution_count": null,
   "id": "a39676f6",
   "metadata": {},
   "outputs": [],
   "source": [
    "5-If a dictionary is stored in spam, what is the difference between the expressions 'cat' in spam and\n",
    "'cat' in spam.keys()?"
   ]
  },
  {
   "cell_type": "code",
   "execution_count": null,
   "id": "e363156b",
   "metadata": {},
   "outputs": [],
   "source": [
    "Ans-There is no difference. The in operator checks whether a value exists as a key in the dictionary"
   ]
  },
  {
   "cell_type": "code",
   "execution_count": null,
   "id": "131a02e7",
   "metadata": {},
   "outputs": [],
   "source": [
    "6-If a dictionary is stored in spam, what is the difference between the expressions cat; in spam and\n",
    "cat in spam.values()?"
   ]
  },
  {
   "cell_type": "code",
   "execution_count": null,
   "id": "f022863d",
   "metadata": {},
   "outputs": [],
   "source": [
    "Ans-'cat' in spam checks whether there is a 'cat' key in the dictionary, while 'cat' in spam.values() checks whether \n",
    "there is a value 'cat' for one of the keys in spam."
   ]
  },
  {
   "cell_type": "code",
   "execution_count": null,
   "id": "252f4adb",
   "metadata": {},
   "outputs": [],
   "source": [
    "7-What is a shortcut for the following code?\n",
    "if 'color' not in spam:\n",
    "spam['color'] = 'black'"
   ]
  },
  {
   "cell_type": "code",
   "execution_count": null,
   "id": "c6ecd9e3",
   "metadata": {},
   "outputs": [],
   "source": [
    "spam['color'] = spam.get('color', 'black')"
   ]
  },
  {
   "cell_type": "code",
   "execution_count": null,
   "id": "e11c2caf",
   "metadata": {},
   "outputs": [],
   "source": []
  },
  {
   "cell_type": "code",
   "execution_count": null,
   "id": "59e04852",
   "metadata": {},
   "outputs": [],
   "source": [
    "How do you \"pretty print\" dictionary values using which module and function?"
   ]
  },
  {
   "cell_type": "code",
   "execution_count": null,
   "id": "19ddb754",
   "metadata": {},
   "outputs": [],
   "source": [
    "Ans- using a built-in library pprint"
   ]
  }
 ],
 "metadata": {
  "kernelspec": {
   "display_name": "Python 3 (ipykernel)",
   "language": "python",
   "name": "python3"
  },
  "language_info": {
   "codemirror_mode": {
    "name": "ipython",
    "version": 3
   },
   "file_extension": ".py",
   "mimetype": "text/x-python",
   "name": "python",
   "nbconvert_exporter": "python",
   "pygments_lexer": "ipython3",
   "version": "3.9.7"
  }
 },
 "nbformat": 4,
 "nbformat_minor": 5
}
